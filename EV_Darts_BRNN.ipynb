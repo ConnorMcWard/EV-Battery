{
 "cells": [
  {
   "cell_type": "code",
   "execution_count": 1,
   "id": "ccaa0325-1189-4586-94a2-75a99390f7cb",
   "metadata": {},
   "outputs": [],
   "source": [
    "# fix python path if working locally\n",
    "# from utils import fix_pythonpath_if_working_locally\n",
    "\n",
    "# fix_pythonpath_if_working_locally()\n",
    "\n",
    "import pandas as pd\n",
    "import numpy as np\n",
    "import torch\n",
    "import matplotlib.pyplot as plt\n",
    "\n",
    "from darts import TimeSeries\n",
    "from darts.utils.timeseries_generation import (\n",
    "    gaussian_timeseries,\n",
    "    linear_timeseries,\n",
    "    sine_timeseries,\n",
    ")\n",
    "from darts.models import (\n",
    "    RNNModel,\n",
    "    TCNModel,\n",
    "    TransformerModel,\n",
    "    NBEATSModel,\n",
    "    BlockRNNModel,\n",
    "    VARIMA,\n",
    ")\n",
    "from darts.metrics import mape, smape, mae, rmse\n",
    "from darts.dataprocessing.transformers import Scaler\n",
    "from darts.utils.timeseries_generation import datetime_attribute_timeseries\n",
    "from darts.datasets import AirPassengersDataset, MonthlyMilkDataset, ElectricityDataset\n",
    "\n",
    "import logging\n",
    "\n",
    "logging.disable(logging.CRITICAL)\n",
    "\n",
    "import warnings\n",
    "\n",
    "warnings.filterwarnings(\"ignore\")\n",
    "\n",
    "%matplotlib inline\n",
    "\n",
    "# for reproducibility\n",
    "torch.manual_seed(1)\n",
    "np.random.seed(1)"
   ]
  },
  {
   "cell_type": "code",
   "execution_count": 2,
   "id": "6cd33141-d8ad-4f2a-a445-5e4bfbe177fd",
   "metadata": {},
   "outputs": [],
   "source": [
    "df1 = pd.read_csv('archive/TripA01.csv', sep=';', encoding=\"unicode_escape\")\n",
    "df2 = pd.read_csv('archive/TripA02.csv', sep=';', encoding=\"unicode_escape\")\n",
    "# df3 = pd.read_csv('archive/TripA03.csv', sep=';', encoding=\"unicode_escape\")\n",
    "# df4 = pd.read_csv('archive/TripA04.csv', sep=';', encoding=\"unicode_escape\")"
   ]
  },
  {
   "cell_type": "code",
   "execution_count": null,
   "id": "356350a5-95b2-43d9-99b8-c774489adbec",
   "metadata": {},
   "outputs": [],
   "source": [
    "df1.set_index(\"Time [s]\", inplace=False)\n",
    "df2.set_index(\"Time [s]\", inplace=False)\n",
    "\n",
    "start_time = '2020-01-01'  # Example start date\n",
    "df1.index = pd.date_range(start=start_time, periods=len(df1), freq='S')\n",
    "df2.index = pd.date_range(start=start_time, periods=len(df2), freq='S')\n",
    "\n",
    "df1.index.freq = 'S'\n",
    "df2.index.freq = 'S'\n",
    "\n",
    "velo_ts1 = TimeSeries.from_dataframe(df1, value_cols='Velocity [km/h]')\n",
    "accel_ts1 = TimeSeries.from_dataframe(df1, value_cols='Longitudinal Acceleration [m/s^2]')\n",
    "soc_ts1 = TimeSeries.from_dataframe(df1, value_cols='SoC [%]')\n",
    "\n",
    "\n",
    "velo_ts2 = TimeSeries.from_dataframe(df2, value_cols='Velocity [km/h]')\n",
    "accel_ts2 = TimeSeries.from_dataframe(df2, value_cols='Longitudinal Acceleration [m/s^2]')\n",
    "soc_ts2 = TimeSeries.from_dataframe(df2, value_cols='SoC [%]')\n",
    "\n",
    "batt_covar1 = velo_ts1.stack(accel_ts1)\n",
    "batt_covar2 = velo_ts2.stack(accel_ts2)\n",
    "\n",
    "scaler = Scaler()\n",
    "batt_covar1 = scaler.fit_transform(batt_covar1)\n",
    "batt_covar2 = scaler.fit_transform(batt_covar2)\n",
    "batt_covar1.plot()\n",
    "\n",
    "soc_ts1 = scaler.fit_transform(soc_ts1)\n",
    "soc_ts2 = scaler.fit_transform(soc_ts2)"
   ]
  },
  {
   "cell_type": "code",
   "execution_count": null,
   "id": "610ef409-a73a-4e64-93ba-59a58cc00b95",
   "metadata": {},
   "outputs": [],
   "source": [
    "soc_train1, soc_valid1 = soc_ts1[:-4000], soc_ts1[-4000:]\n",
    "batt_covar_train1, batt_covar_valid1 = batt_covar1[:-4000], batt_covar1[-4000:]\n",
    "\n",
    "soc_train2, soc_valid2 = soc_ts2[:-6000], soc_ts2[-6000:]\n",
    "batt_covar_train2, batt_covar_valid2 = batt_covar2[:-6000], batt_covar2[-6000:]"
   ]
  },
  {
   "cell_type": "code",
   "execution_count": null,
   "id": "a2eef2f6-8686-42c6-8c74-600e7ee075f8",
   "metadata": {},
   "outputs": [],
   "source": [
    "model_pastcov = BlockRNNModel(\n",
    "    model=\"LSTM\",\n",
    "    input_chunk_length=600,\n",
    "    output_chunk_length=60,\n",
    "    n_epochs=10,\n",
    "    random_state=0,\n",
    ")"
   ]
  },
  {
   "cell_type": "code",
   "execution_count": null,
   "id": "eaa73108-fe19-4bae-8cdc-94dd11e22924",
   "metadata": {},
   "outputs": [],
   "source": [
    "model_pastcov.fit(\n",
    "    series=[soc_train1, soc_train2],\n",
    "    past_covariates=[batt_covar_train1, batt_covar_train2],\n",
    "    verbose=True,\n",
    ");"
   ]
  },
  {
   "cell_type": "code",
   "execution_count": null,
   "id": "861ac37f-bf6d-4acb-b0ca-109aa6720cc9",
   "metadata": {},
   "outputs": [],
   "source": [
    "pred_cov = model_pastcov.predict(n=4000, series=soc_train1, past_covariates=batt_covar1)\n",
    "\n",
    "soc_ts1.plot(label=\"actual\")\n",
    "pred_cov.plot(label=\"forecast\")\n",
    "plt.legend()\n",
    "print(\"RMSE = {:.2f}%\".format(rmse(soc_ts1, pred_cov)))"
   ]
  }
 ],
 "metadata": {
  "kernelspec": {
   "display_name": "Python 3 (ipykernel)",
   "language": "python",
   "name": "python3"
  },
  "language_info": {
   "codemirror_mode": {
    "name": "ipython",
    "version": 3
   },
   "file_extension": ".py",
   "mimetype": "text/x-python",
   "name": "python",
   "nbconvert_exporter": "python",
   "pygments_lexer": "ipython3",
   "version": "3.11.4"
  },
  "widgets": {
   "application/vnd.jupyter.widget-state+json": {
    "state": {},
    "version_major": 2,
    "version_minor": 0
   }
  }
 },
 "nbformat": 4,
 "nbformat_minor": 5
}
